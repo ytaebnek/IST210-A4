{
  "nbformat": 4,
  "nbformat_minor": 0,
  "metadata": {
    "colab": {
      "name": "GroupAssignment4.ipynb",
      "provenance": [],
      "collapsed_sections": []
    },
    "kernelspec": {
      "name": "python3",
      "display_name": "Python 3"
    }
  },
  "cells": [
    {
      "cell_type": "code",
      "metadata": {
        "id": "SKAWd338IXCM",
        "colab_type": "code",
        "colab": {}
      },
      "source": [
        "import sqlite3\n",
        "\n",
        "connectionToDatabase = sqlite3.connect('RepairDeskData')"
      ],
      "execution_count": 0,
      "outputs": []
    },
    {
      "cell_type": "code",
      "metadata": {
        "id": "h_jjsgJzKoOg",
        "colab_type": "code",
        "colab": {}
      },
      "source": [
        "cursor = connectionToDatabase.cursor()\n",
        "cursor.execute('''drop table IF EXISTS JobTitle''')\n",
        "connectionToDatabase.commit()\n",
        "cursor.execute('''create table JobTitle (jobID text PRIMARY KEY, title text, pay real)''')\n",
        "connectionToDatabase.commit()\n",
        "cursor.execute('''insert into JobTitle values ('01','CEO','$110,000.00')''')\n",
        "connectionToDatabase.commit()\n",
        "cursor.execute('''insert into JobTitle values ('02','Troubleshooter','$55,000.00')''')\n",
        "connectionToDatabase.commit()\n",
        "cursor.execute('''insert into JobTitle values ('03','Supervisor','$65,000.00')''')\n",
        "connectionToDatabase.commit()\n",
        "cursor.execute('''insert into JobTitle values ('04','Security/Antivirus Specialist','$63,000.00')''')\n",
        "connectionToDatabase.commit()\n",
        "cursor.execute('''insert into JobTitle values ('05','Customer Relations','$57,000.00')''')\n",
        "connectionToDatabase.commit()"
      ],
      "execution_count": 0,
      "outputs": []
    },
    {
      "cell_type": "code",
      "metadata": {
        "id": "NdGK6A9BK2l-",
        "colab_type": "code",
        "colab": {}
      },
      "source": [
        "cursor = connectionToDatabase.cursor()\n",
        "cursor.execute('''drop table IF EXISTS SkillSet''')\n",
        "connectionToDatabase.commit()\n",
        "cursor.execute('''create table SkillSet (skillID text PRIMARY KEY, DegreeCertification text)''')\n",
        "connectionToDatabase.commit()\n",
        "cursor.execute('''insert into SkillSet values ('001','Computer Science')''')\n",
        "connectionToDatabase.commit()\n",
        "cursor.execute('''insert into SkillSet values ('002','Computer Engineering')''')\n",
        "connectionToDatabase.commit()\n",
        "cursor.execute('''insert into SkillSet values ('003','Cybersecurity')''')\n",
        "connectionToDatabase.commit()\n",
        "cursor.execute('''insert into SkillSet values ('004','Data Analysis')''')\n",
        "connectionToDatabase.commit()\n",
        "cursor.execute('''insert into SkillSet values ('005','Human-Centered Design and Development')''')\n",
        "connectionToDatabase.commit()\n",
        "cursor.execute('''insert into SkillSet values ('006','Netwrok Engineer')''')\n",
        "connectionToDatabase.commit()\n",
        "cursor.execute('''insert into SkillSet values ('007','Security Risk Analyst')''')\n",
        "connectionToDatabase.commit()"
      ],
      "execution_count": 0,
      "outputs": []
    },
    {
      "cell_type": "code",
      "metadata": {
        "id": "TXq12_E5UHhE",
        "colab_type": "code",
        "colab": {}
      },
      "source": [
        "cursor = connectionToDatabase.cursor()\n",
        "cursor.execute('''drop table IF EXISTS Assignment''')\n",
        "connectionToDatabase.commit()\n",
        "cursor.execute('''create table Assignment (employeeID text PRIMARY KEY, pcID text)''')\n",
        "connectionToDatabase.commit()\n",
        "cursor.execute('''insert into Assignment values ('001','00002')''')\n",
        "connectionToDatabase.commit()\n",
        "cursor.execute('''insert into Assignment values ('002','00005')''')\n",
        "connectionToDatabase.commit()\n",
        "cursor.execute('''insert into Assignment values ('003','00023')''')\n",
        "connectionToDatabase.commit()\n",
        "cursor.execute('''insert into Assignment values ('004','00002')''')\n",
        "connectionToDatabase.commit()\n",
        "cursor.execute('''insert into Assignment values ('005','00018')''')\n",
        "connectionToDatabase.commit()\n"
      ],
      "execution_count": 0,
      "outputs": []
    },
    {
      "cell_type": "code",
      "metadata": {
        "id": "l7ae5doLp1aH",
        "colab_type": "code",
        "colab": {}
      },
      "source": [
        "cursor = connectionToDatabase.cursor()\n",
        "cursor.execute('''drop table IF EXISTS RepairQueue''')\n",
        "connectionToDatabase.commit()\n",
        "cursor.execute('''create table RepairQueue (pcID text PRIMARY KEY, cost real, skillSet text)''')\n",
        "connectionToDatabase.commit()\n",
        "cursor.execute('''insert into RepairQueue values ('00001','$160.00','001')''')\n",
        "connectionToDatabase.commit()\n",
        "cursor.execute('''insert into RepairQueue values ('00002','$142.00','003')''')\n",
        "connectionToDatabase.commit()\n",
        "cursor.execute('''insert into RepairQueue values ('00003','$135.00','001')''')\n",
        "connectionToDatabase.commit()\n",
        "cursor.execute('''insert into RepairQueue values ('00004','$377.00','002')''')\n",
        "connectionToDatabase.commit()\n",
        "cursor.execute('''insert into RepairQueue values ('00005','$355.00','004')''')\n",
        "connectionToDatabase.commit()"
      ],
      "execution_count": 0,
      "outputs": []
    },
    {
      "cell_type": "code",
      "metadata": {
        "id": "1o7utIxcqmiz",
        "colab_type": "code",
        "colab": {}
      },
      "source": [
        "cursor = connectionToDatabase.cursor()\n",
        "cursor.execute('''drop table IF EXISTS Employees''')\n",
        "connectionToDatabase.commit()\n",
        "cursor.execute('''create table Employees (EmployeeID text PRIMARY KEY, firstName text, lastName text, jobID text, skillID text)''')\n",
        "connectionToDatabase.commit()\n",
        "cursor.execute('''insert into Employees values ('001', 'Laura', 'Clifford', '01', '003')''')\n",
        "connectionToDatabase.commit()\n",
        "cursor.execute('''insert into Employees values ('002', 'Hersila', 'Lamar', '02', '004')''')\n",
        "connectionToDatabase.commit()\n",
        "cursor.execute('''insert into Employees values ('003', 'Zhu', 'Madalitso', '03', '006')''')\n",
        "connectionToDatabase.commit()\n",
        "cursor.execute('''insert into Employees values ('004', 'Ravi', 'Kasabian', '04', '003')''')\n",
        "connectionToDatabase.commit()\n",
        "cursor.execute('''insert into Employees values ('005', 'Paula', 'Pagani', '05', '007')''')\n",
        "connectionToDatabase.commit()"
      ],
      "execution_count": 0,
      "outputs": []
    },
    {
      "cell_type": "code",
      "metadata": {
        "id": "vBbn0USSiWTN",
        "colab_type": "code",
        "colab": {}
      },
      "source": [
        "cursor = connectionToDatabase.cursor()\n",
        "cursor.execute('''drop table IF EXISTS RepairDesk''')\n",
        "connectionToDatabase.commit()\n",
        "cursor.execute('''create table RepairDesk (queueID text PRIMARY KEY, time text, date text, pcID text)''')\n",
        "connectionToDatabase.commit()\n",
        "cursor.execute('''insert into RepairDesk values ('000258', '10:50:23', '11/23/24', '00001')''')\n",
        "connectionToDatabase.commit()\n",
        "cursor.execute('''insert into RepairDesk values ('000259', '11:21:59', '11/23/24', '00002')''')\n",
        "connectionToDatabase.commit()\n",
        "cursor.execute('''insert into RepairDesk values ('000260', '11:53:24', '11/23/24', '00003')''')\n",
        "connectionToDatabase.commit()\n",
        "cursor.execute('''insert into RepairDesk values ('000261', '12:42:06', '11/23/24', '00004')''')\n",
        "connectionToDatabase.commit()\n",
        "cursor.execute('''insert into RepairDesk values ('000262', '14:05:43', '11/23/24', '00005')''')\n",
        "connectionToDatabase.commit()"
      ],
      "execution_count": 0,
      "outputs": []
    },
    {
      "cell_type": "markdown",
      "metadata": {
        "id": "l_BoX57jzjxz",
        "colab_type": "text"
      },
      "source": [
        "Our 3 Questions:"
      ]
    },
    {
      "cell_type": "markdown",
      "metadata": {
        "id": "EL6ZjSeYj53v",
        "colab_type": "text"
      },
      "source": [
        "List the 5 most expensive expensive PC repairs in order:"
      ]
    },
    {
      "cell_type": "code",
      "metadata": {
        "id": "SYUbuCizkyfR",
        "colab_type": "code",
        "colab": {
          "base_uri": "https://localhost:8080/",
          "height": 102
        },
        "outputId": "901eccdf-f5be-4e86-88bf-7da7beab4f6f"
      },
      "source": [
        "cursor.execute('''select * from RepairQueue Order By cost DESC''')\n",
        "for row in cursor.fetchall():\n",
        "  print (row)"
      ],
      "execution_count": 16,
      "outputs": [
        {
          "output_type": "stream",
          "text": [
            "('00004', '$377.00', '002')\n",
            "('00005', '$355.00', '004')\n",
            "('00001', '$160.00', '001')\n",
            "('00002', '$142.00', '003')\n",
            "('00003', '$135.00', '001')\n"
          ],
          "name": "stdout"
        }
      ]
    },
    {
      "cell_type": "markdown",
      "metadata": {
        "id": "Qc09qq1qmluF",
        "colab_type": "text"
      },
      "source": [
        "This is important from a customer and accounting view since it would allow the user with this information to determine what the most expensive probelms are for computers. This information can be used by customers on whether or not to use to repair desk based on their certain problems and can be used by the business to give estimated repair costs to customers who have PC problems."
      ]
    },
    {
      "cell_type": "markdown",
      "metadata": {
        "id": "kCYhbCxhkHyk",
        "colab_type": "text"
      },
      "source": [
        "How many PCs were turned in to be repaired on 11/23/24:\n"
      ]
    },
    {
      "cell_type": "code",
      "metadata": {
        "id": "thPmTjkYkxt7",
        "colab_type": "code",
        "colab": {
          "base_uri": "https://localhost:8080/",
          "height": 34
        },
        "outputId": "b758fdb9-0936-40f6-d9e3-390806e63473"
      },
      "source": [
        "cursor.execute('''select date,COUNT(pcID) from RepairDesk WHERE date = \"11/23/24\"''')\n",
        "for row in cursor.fetchall():\n",
        "  print (row)"
      ],
      "execution_count": 18,
      "outputs": [
        {
          "output_type": "stream",
          "text": [
            "('11/23/24', 5)\n"
          ],
          "name": "stdout"
        }
      ]
    },
    {
      "cell_type": "markdown",
      "metadata": {
        "id": "intrO7eonJ6x",
        "colab_type": "text"
      },
      "source": [
        "This information is useful in determining dates, days of the week, and eventually times of the year where the recieve the most PCs to be repaired. The user can set a range instead of a specific date in order to help them visualize what times of the year are the busiest. This can help the repair desk determine how much staff they need or how many people they need to staff the desk."
      ]
    },
    {
      "cell_type": "markdown",
      "metadata": {
        "id": "3xc7V2s0kazu",
        "colab_type": "text"
      },
      "source": [
        "What assignment has the most people working on it:"
      ]
    },
    {
      "cell_type": "code",
      "metadata": {
        "id": "M8Bw2_kBkv7r",
        "colab_type": "code",
        "colab": {
          "base_uri": "https://localhost:8080/",
          "height": 85
        },
        "outputId": "5bb92e83-0c10-4f2e-ed55-3143668884d4"
      },
      "source": [
        "cursor.execute('''select pcID,COUNT(employeeID) from Assignment Group By pcID''')\n",
        "for row in cursor.fetchall():\n",
        "  print (row)"
      ],
      "execution_count": 15,
      "outputs": [
        {
          "output_type": "stream",
          "text": [
            "('00002', 2)\n",
            "('00005', 1)\n",
            "('00018', 1)\n",
            "('00023', 1)\n"
          ],
          "name": "stdout"
        }
      ]
    },
    {
      "cell_type": "markdown",
      "metadata": {
        "id": "oNJDI6EjnkI3",
        "colab_type": "text"
      },
      "source": [
        "This is important for visualizing the allocation of human resources within the company in terms of computers to be repaired. This information can help the company in determining what kind of assignments require the most people as well as how many resources they had delegated, or are delegating, to a specific task. "
      ]
    },
    {
      "cell_type": "markdown",
      "metadata": {
        "id": "VwC_8mfUoxiq",
        "colab_type": "text"
      },
      "source": [
        "Our updated ER Diagram:"
      ]
    },
    {
      "cell_type": "code",
      "metadata": {
        "id": "HXAqAUMXo1_h",
        "colab_type": "code",
        "colab": {
          "base_uri": "https://localhost:8080/",
          "height": 129
        },
        "outputId": "c7923bb2-0257-4f5d-a965-c9ed4253aa4e"
      },
      "source": [
        "<img src=\"IST210A4.png\" />"
      ],
      "execution_count": 23,
      "outputs": [
        {
          "output_type": "error",
          "ename": "SyntaxError",
          "evalue": "ignored",
          "traceback": [
            "\u001b[0;36m  File \u001b[0;32m\"<ipython-input-23-ce1655cb1676>\"\u001b[0;36m, line \u001b[0;32m1\u001b[0m\n\u001b[0;31m    <img src=\"IST210A4.png\" />\u001b[0m\n\u001b[0m    ^\u001b[0m\n\u001b[0;31mSyntaxError\u001b[0m\u001b[0;31m:\u001b[0m invalid syntax\n"
          ]
        }
      ]
    }
  ]
}